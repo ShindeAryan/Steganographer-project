{
 "cells": [
  {
   "cell_type": "code",
   "execution_count": 1,
   "id": "29d72a28-d916-4b28-b745-13b5d4042174",
   "metadata": {},
   "outputs": [],
   "source": [
    "import numpy as np\n",
    "import pandas as pand\n",
    "import os\n",
    "import cv2\n",
    "from matplotlib import pyplot as plt"
   ]
  },
  {
   "cell_type": "code",
   "execution_count": 2,
   "id": "782bf3ec-9215-49f2-b90a-9b3befa38eba",
   "metadata": {},
   "outputs": [],
   "source": [
    "def txt_encode(text):\n",
    "    l=len(text)\n",
    "    i=0\n",
    "    add=''\n",
    "    while i<l:\n",
    "        t=ord(text[i])\n",
    "        if(t>=32 and t<=64):\n",
    "            t1=t+48\n",
    "            t2=t1^170       #170: 10101010\n",
    "            res = bin(t2)[2:].zfill(8)\n",
    "            add+=\"0011\"+res\n",
    "        \n",
    "        else:\n",
    "            t1=t-48\n",
    "            t2=t1^170\n",
    "            res = bin(t2)[2:].zfill(8)\n",
    "            add+=\"0110\"+res\n",
    "        i+=1\n",
    "    res1=add+\"111111111111\"\n",
    "    print(\"The string after binary conversion appyling all the transformation :- \" + (res1))   \n",
    "    length = len(res1)\n",
    "    print(\"Length of binary after conversion:- \",length)\n",
    "    HM_SK=\"\"\n",
    "    ZWC={\"00\":u'\\u200C',\"01\":u'\\u202C',\"11\":u'\\u202D',\"10\":u'\\u200E'}      \n",
    "    file1 = open(\"Sample_cover_files/cover_text.txt\",\"r+\")\n",
    "    nameoffile = input(\"\\nEnter the name of the Stego file after Encoding(with extension):- \")\n",
    "    file3= open(nameoffile,\"w+\", encoding=\"utf-8\")\n",
    "    word=[]\n",
    "    for line in file1: \n",
    "        word+=line.split()\n",
    "    i=0\n",
    "    while(i<len(res1)):  \n",
    "        s=word[int(i/12)]\n",
    "        j=0\n",
    "        x=\"\"\n",
    "        HM_SK=\"\"\n",
    "        while(j<12):\n",
    "            x=res1[j+i]+res1[i+j+1]\n",
    "            HM_SK+=ZWC[x]\n",
    "            j+=2\n",
    "        s1=s+HM_SK\n",
    "        file3.write(s1)\n",
    "        file3.write(\" \")\n",
    "        i+=12\n",
    "    t=int(len(res1)/12)     \n",
    "    while t<len(word): \n",
    "        file3.write(word[t])\n",
    "        file3.write(\" \")\n",
    "        t+=1\n",
    "    file3.close()  \n",
    "    file1.close()\n",
    "    print(\"\\nStego file has successfully generated\")\n"
   ]
  },
  {
   "cell_type": "code",
   "execution_count": 3,
   "id": "afbbe89f-e481-45cd-a928-017ad9baeb75",
   "metadata": {},
   "outputs": [],
   "source": [
    "def encode_txt_data():\n",
    "    count2=0\n",
    "    file1 = open(\"Sample_cover_files/cover_text.txt\",\"r\")\n",
    "    for line in file1: \n",
    "        for word in line.split():\n",
    "            count2=count2+1\n",
    "    file1.close()       \n",
    "    bt=int(count2)\n",
    "    print(\"Maximum number of words that can be inserted :- \",int(bt/6))\n",
    "    text1=input(\"\\nEnter data to be encoded:- \")\n",
    "    l=len(text1)\n",
    "    if(l<=bt):\n",
    "        print(\"\\nInputed message can be hidden in the cover file\\n\")\n",
    "        txt_encode(text1)\n",
    "    else:\n",
    "        print(\"\\nString is too big please reduce string size\")\n",
    "        encode_txt_data()\n",
    "\n"
   ]
  },
  {
   "cell_type": "code",
   "execution_count": 4,
   "id": "2fbf7d74-752c-4469-be8e-43f488133446",
   "metadata": {},
   "outputs": [],
   "source": [
    "def BinaryToDecimal(binary):\n",
    "    string = int(binary, 2)\n",
    "    return string"
   ]
  },
  {
   "cell_type": "code",
   "execution_count": 5,
   "id": "100a4009-1680-4c5d-97b1-6e0c36eaef02",
   "metadata": {},
   "outputs": [],
   "source": [
    "def decode_txt_data():\n",
    "    ZWC_reverse={u'\\u200C':\"00\",u'\\u202C':\"01\",u'\\u202D':\"11\",u'\\u200E':\"10\"}\n",
    "    stego=input(\"\\nPlease enter the stego file name(with extension) to decode the message:- \")\n",
    "    file4= open(stego,\"r\", encoding=\"utf-8\")\n",
    "    temp=''\n",
    "    for line in file4: \n",
    "        for words in line.split():\n",
    "            T1=words\n",
    "            binary_extract=\"\"\n",
    "            for letter in T1:\n",
    "                if(letter in ZWC_reverse):\n",
    "                     binary_extract+=ZWC_reverse[letter]\n",
    "            if binary_extract==\"111111111111\":\n",
    "                break\n",
    "            else:\n",
    "                temp+=binary_extract\n",
    "    print(\"\\nEncrypted message presented in code bits:\",temp) \n",
    "    lengthd = len(temp)\n",
    "    print(\"\\nLength of encoded bits:- \",lengthd)\n",
    "    i=0\n",
    "    a=0\n",
    "    b=4\n",
    "    c=4\n",
    "    d=12\n",
    "    final=''\n",
    "    while i<len(temp):\n",
    "        t3=temp[a:b]\n",
    "        a+=12\n",
    "        b+=12\n",
    "        i+=12\n",
    "        t4=temp[c:d]\n",
    "        c+=12\n",
    "        d+=12\n",
    "        if(t3=='0110'):\n",
    "            decimal_data = BinaryToDecimal(t4)\n",
    "            final+=chr((decimal_data ^ 170) + 48)\n",
    "        elif(t3=='0011'):\n",
    "            decimal_data = BinaryToDecimal(t4)\n",
    "            final+=chr((decimal_data ^ 170) - 48)\n",
    "    print(\"\\nMessage after decoding from the stego file:- \",final)\n"
   ]
  },
  {
   "cell_type": "code",
   "execution_count": 6,
   "id": "a9703ea2-8693-4bf4-96ff-4b1a4ae6744e",
   "metadata": {},
   "outputs": [],
   "source": [
    "def txt_steg():\n",
    "    while True:\n",
    "        print(\"\\n\\t\\tTEXT STEGANOGRAPHY OPERATIONS\") \n",
    "        print(\"1. Encode the Text message\")  \n",
    "        print(\"2. Decode the Text message\")  \n",
    "        print(\"3. Exit\")  \n",
    "        choice1 = int(input(\"Enter the Choice:\"))   \n",
    "        if choice1 == 1:\n",
    "            encode_txt_data()\n",
    "        elif choice1 == 2:\n",
    "            decrypted=decode_txt_data() \n",
    "        elif choice1 == 3:\n",
    "            break\n",
    "        else:\n",
    "            print(\"Incorrect Choice\")\n",
    "        print(\"\\n\")\n",
    "\n"
   ]
  },
  {
   "cell_type": "code",
   "execution_count": 7,
   "id": "1454ddad-01c6-4947-bfa9-56621ab0e3cb",
   "metadata": {},
   "outputs": [],
   "source": [
    "def msgtobinary(msg):\n",
    "    if type(msg) == str:\n",
    "        result= ''.join([ format(ord(i), \"08b\") for i in msg ])\n",
    "    \n",
    "    elif type(msg) == bytes or type(msg) == np.ndarray:\n",
    "        result= [ format(i, \"08b\") for i in msg ]\n",
    "    \n",
    "    elif type(msg) == int or type(msg) == np.uint8:\n",
    "        result=format(msg, \"08b\")\n",
    "\n",
    "    else:\n",
    "        raise TypeError(\"Input type is not supported in this function\")\n",
    "    \n",
    "    return result\n"
   ]
  },
  {
   "cell_type": "code",
   "execution_count": 8,
   "id": "71d9b63f-8de4-4960-84ea-fbc334581f2f",
   "metadata": {},
   "outputs": [],
   "source": [
    "def encode_img_data(img):\n",
    "    data=input(\"\\nEnter the data to be Encoded in Image :\")    \n",
    "    if (len(data) == 0): \n",
    "        raise ValueError('Data entered to be encoded is empty')\n",
    "  \n",
    "    nameoffile = input(\"\\nEnter the name of the New Image (Stego Image) after Encoding(with extension):\")\n",
    "    \n",
    "    no_of_bytes=(img.shape[0] * img.shape[1] * 3) // 8\n",
    "    \n",
    "    print(\"\\t\\nMaximum bytes to encode in Image :\", no_of_bytes)\n",
    "    \n",
    "    if(len(data)>no_of_bytes):\n",
    "        raise ValueError(\"Insufficient bytes Error, Need Bigger Image or give Less Data !!\")\n",
    "    \n",
    "    data +='*^*^*'    \n",
    "    \n",
    "    binary_data=msgtobinary(data)\n",
    "    print(\"\\n\")\n",
    "    print(binary_data)\n",
    "    length_data=len(binary_data)\n",
    "    \n",
    "    print(\"\\nThe Length of Binary data\",length_data)\n",
    "    \n",
    "    index_data = 0\n",
    "    \n",
    "    for i in img:\n",
    "        for pixel in i:\n",
    "            r, g, b = msgtobinary(pixel)\n",
    "            if index_data < length_data:\n",
    "                pixel[0] = int(r[:-1] + binary_data[index_data], 2) \n",
    "                index_data += 1\n",
    "            if index_data < length_data:\n",
    "                pixel[1] = int(g[:-1] + binary_data[index_data], 2) \n",
    "                index_data += 1\n",
    "            if index_data < length_data:\n",
    "                pixel[2] = int(b[:-1] + binary_data[index_data], 2) \n",
    "                index_data += 1\n",
    "            if index_data >= length_data:\n",
    "                break\n",
    "    cv2.imwrite(nameoffile,img)\n",
    "    print(\"\\nEncoded the data successfully in the Image and the image is successfully saved with name \",nameoffile)"
   ]
  },
  {
   "cell_type": "code",
   "execution_count": 9,
   "id": "06349c2b-3d84-4a83-9926-4d5e4ed05046",
   "metadata": {},
   "outputs": [],
   "source": [
    "def decode_img_data(img):\n",
    "    data_binary = \"\"\n",
    "    for i in img:\n",
    "        for pixel in i:\n",
    "            r, g, b = msgtobinary(pixel) \n",
    "            data_binary += r[-1]  \n",
    "            data_binary += g[-1]  \n",
    "            data_binary += b[-1]  \n",
    "            total_bytes = [ data_binary[i: i+8] for i in range(0, len(data_binary), 8) ]\n",
    "            decoded_data = \"\"\n",
    "            for byte in total_bytes:\n",
    "                decoded_data += chr(int(byte, 2))\n",
    "                if decoded_data[-5:] == \"*^*^*\": \n",
    "                    print(\"\\n\\nThe Encoded data which was hidden in the Image was :--  \",decoded_data[:-5])\n",
    "                    return "
   ]
  },
  {
   "cell_type": "code",
   "execution_count": 10,
   "id": "c18134f2-ab64-4f28-98fd-e18f34b8f38a",
   "metadata": {},
   "outputs": [],
   "source": [
    "def img_steg():\n",
    "    while True:\n",
    "        print(\"\\n\\t\\tIMAGE STEGANOGRAPHY OPERATIONS\\n\") \n",
    "        print(\"1. Encode the Text message\") \n",
    "        print(\"2. Decode the Text message\") \n",
    "        print(\"3. Exit\")  \n",
    "        choice1 = int(input(\"Enter the Choice: \"))   \n",
    "        if choice1 == 1:\n",
    "            image=cv2.imread(\"Sample_cover_files/cover_image.jpg\")\n",
    "            encode_img_data(image)\n",
    "        elif choice1 == 2:\n",
    "            image1=cv2.imread(input(\"Enter the Image you need to Decode to get the Secret message :  \"))\n",
    "            decode_img_data(image1)\n",
    "        elif choice1 == 3:\n",
    "            break\n",
    "        else:\n",
    "            print(\"Incorrect Choice\")\n",
    "        print(\"\\n\")"
   ]
  },
  {
   "cell_type": "code",
   "execution_count": 11,
   "id": "eaa48e3d-aed5-452c-aafd-2fd5227a9c6b",
   "metadata": {},
   "outputs": [],
   "source": [
    "def encode_aud_data():\n",
    "    import wave\n",
    "\n",
    "    nameoffile=input(\"Enter name of the file (with extension) :- \")\n",
    "    song = wave.open(nameoffile, mode='rb')\n",
    "\n",
    "    nframes=song.getnframes()\n",
    "    frames=song.readframes(nframes)\n",
    "    frame_list=list(frames)\n",
    "    frame_bytes=bytearray(frame_list)\n",
    "\n",
    "    data = input(\"\\nEnter the secret message :- \")\n",
    "\n",
    "    res = ''.join(format(i, '08b') for i in bytearray(data, encoding ='utf-8'))     \n",
    "    print(\"\\nThe string after binary conversion :- \" + (res))   \n",
    "    length = len(res)\n",
    "    print(\"\\nLength of binary after conversion :- \",length)\n",
    "\n",
    "    data = data + '*^*^*'\n",
    "\n",
    "    result = []\n",
    "    for c in data:\n",
    "        bits = bin(ord(c))[2:].zfill(8)\n",
    "        result.extend([int(b) for b in bits])\n",
    "\n",
    "    j = 0\n",
    "    for i in range(0,len(result),1): \n",
    "        res = bin(frame_bytes[j])[2:].zfill(8)\n",
    "        if res[len(res)-4]== result[i]:\n",
    "            frame_bytes[j] = (frame_bytes[j] & 253)      #253: 11111101\n",
    "        else:\n",
    "            frame_bytes[j] = (frame_bytes[j] & 253) | 2\n",
    "            frame_bytes[j] = (frame_bytes[j] & 254) | result[i]\n",
    "        j = j + 1\n",
    "    \n",
    "    frame_modified = bytes(frame_bytes)\n",
    "\n",
    "    stegofile=input(\"\\nEnter name of the stego file (with extension) :- \")\n",
    "    with wave.open(stegofile, 'wb') as fd:\n",
    "        fd.setparams(song.getparams())\n",
    "        fd.writeframes(frame_modified)\n",
    "    print(\"\\nEncoded the data successfully in the audio file.\")    \n",
    "    song.close()\n"
   ]
  },
  {
   "cell_type": "code",
   "execution_count": 12,
   "id": "dd813a62-499b-4e93-b2be-255266189a5a",
   "metadata": {},
   "outputs": [],
   "source": [
    "def decode_aud_data():\n",
    "    import wave\n",
    "\n",
    "    nameoffile=input(\"Enter name of the file to be decoded :- \")\n",
    "    song = wave.open(nameoffile, mode='rb')\n",
    "\n",
    "    nframes=song.getnframes()\n",
    "    frames=song.readframes(nframes)\n",
    "    frame_list=list(frames)\n",
    "    frame_bytes=bytearray(frame_list)\n",
    "\n",
    "    extracted = \"\"\n",
    "    p=0\n",
    "    for i in range(len(frame_bytes)):\n",
    "        if(p==1):\n",
    "            break\n",
    "        res = bin(frame_bytes[i])[2:].zfill(8)\n",
    "        if res[len(res)-2]==0:\n",
    "            extracted+=res[len(res)-4]\n",
    "        else:\n",
    "            extracted+=res[len(res)-1]\n",
    "    \n",
    "        all_bytes = [ extracted[i: i+8] for i in range(0, len(extracted), 8) ]\n",
    "        decoded_data = \"\"\n",
    "        for byte in all_bytes:\n",
    "            decoded_data += chr(int(byte, 2))\n",
    "            if decoded_data[-5:] == \"*^*^*\":\n",
    "                print(\"The Encoded data was :--\",decoded_data[:-5])\n",
    "                p=1\n",
    "                break  \n",
    "\n"
   ]
  },
  {
   "cell_type": "code",
   "execution_count": 13,
   "id": "129280fe-40cc-4a04-bf2a-c61a135ef179",
   "metadata": {},
   "outputs": [],
   "source": [
    "def aud_steg():\n",
    "    while True:\n",
    "        print(\"\\n\\t\\tAUDIO STEGANOGRAPHY OPERATIONS\") \n",
    "        print(\"1. Encode the Text message\")  \n",
    "        print(\"2. Decode the Text message\")  \n",
    "        print(\"3. Exit\")  \n",
    "        choice1 = int(input(\"Enter the Choice:\"))   \n",
    "        if choice1 == 1:\n",
    "            encode_aud_data()\n",
    "        elif choice1 == 2:\n",
    "            decode_aud_data()\n",
    "        elif choice1 == 3:\n",
    "            break\n",
    "        else:\n",
    "            print(\"Incorrect Choice\")\n",
    "        print(\"\\n\")\n",
    "\n"
   ]
  },
  {
   "cell_type": "code",
   "execution_count": 14,
   "id": "1cc4f49f-99b0-4ff4-9e68-d8d2ab3bfce8",
   "metadata": {},
   "outputs": [],
   "source": [
    "def KSA(key):\n",
    "    key_length = len(key)\n",
    "    S=list(range(256)) \n",
    "    j=0\n",
    "    for i in range(256):\n",
    "        j=(j+S[i]+key[i % key_length]) % 256\n",
    "        S[i],S[j]=S[j],S[i]\n",
    "    return S\n"
   ]
  },
  {
   "cell_type": "code",
   "execution_count": 15,
   "id": "78ccadc7-2c9b-4314-85ae-4c5bb72983ea",
   "metadata": {},
   "outputs": [],
   "source": [
    "def PRGA(S,n):\n",
    "    i=0\n",
    "    j=0\n",
    "    key=[]\n",
    "    while n>0:\n",
    "        n=n-1\n",
    "        i=(i+1)%256\n",
    "        j=(j+S[i])%256\n",
    "        S[i],S[j]=S[j],S[i]\n",
    "        K=S[(S[i]+S[j])%256]\n",
    "        key.append(K)\n",
    "    return key\n"
   ]
  },
  {
   "cell_type": "code",
   "execution_count": 16,
   "id": "57eface0-eef9-4a3b-bad5-79aee6f0e70e",
   "metadata": {},
   "outputs": [],
   "source": [
    "\n",
    "def preparing_key_array(s):\n",
    "    return [ord(c) for c in s]"
   ]
  },
  {
   "cell_type": "code",
   "execution_count": 17,
   "id": "0b250ede-7c53-47b7-a0cb-78ff29e48e33",
   "metadata": {},
   "outputs": [],
   "source": [
    "\n",
    "def encryption(plaintext):\n",
    "    print(\"Enter the key : \")\n",
    "    key=input()\n",
    "    key=preparing_key_array(key)\n",
    "\n",
    "    S=KSA(key)\n",
    "\n",
    "    keystream=np.array(PRGA(S,len(plaintext)))\n",
    "    plaintext=np.array([ord(i) for i in plaintext])\n",
    "\n",
    "    cipher=keystream^plaintext\n",
    "    ctext=''\n",
    "    for c in cipher:\n",
    "        ctext=ctext+chr(c)\n",
    "    return ctext\n"
   ]
  },
  {
   "cell_type": "code",
   "execution_count": 18,
   "id": "cd9a1cc4-afc5-4bcc-9d0d-eb0a953c9ddc",
   "metadata": {},
   "outputs": [],
   "source": [
    "def decryption(ciphertext):\n",
    "    print(\"Enter the key : \")\n",
    "    key=input()\n",
    "    key=preparing_key_array(key)\n",
    "\n",
    "    S=KSA(key)\n",
    "\n",
    "    keystream=np.array(PRGA(S,len(ciphertext)))\n",
    "    ciphertext=np.array([ord(i) for i in ciphertext])\n",
    "\n",
    "    decoded=keystream^ciphertext\n",
    "    dtext=''\n",
    "    for c in decoded:\n",
    "        dtext=dtext+chr(c)\n",
    "    return dtext\n"
   ]
  },
  {
   "cell_type": "code",
   "execution_count": 19,
   "id": "95aeeeaf-3686-4a22-b436-56a63ddbd064",
   "metadata": {},
   "outputs": [],
   "source": [
    "def embed(frame):\n",
    "    data=input(\"\\nEnter the data to be Encoded in Video :\") \n",
    "    data=encryption(data)\n",
    "    print(\"The encrypted data is : \",data)\n",
    "    if (len(data) == 0): \n",
    "        raise ValueError('Data entered to be encoded is empty')\n",
    "\n",
    "    data +='*^*^*'\n",
    "    \n",
    "    binary_data=msgtobinary(data)\n",
    "    length_data = len(binary_data)\n",
    "    \n",
    "    index_data = 0\n",
    "    \n",
    "    for i in frame:\n",
    "        for pixel in i:\n",
    "            r, g, b = msgtobinary(pixel)\n",
    "            if index_data < length_data:\n",
    "                pixel[0] = int(r[:-1] + binary_data[index_data], 2) \n",
    "                index_data += 1\n",
    "            if index_data < length_data:\n",
    "                pixel[1] = int(g[:-1] + binary_data[index_data], 2) \n",
    "                index_data += 1\n",
    "            if index_data < length_data:\n",
    "                pixel[2] = int(b[:-1] + binary_data[index_data], 2) \n",
    "                index_data += 1\n",
    "            if index_data >= length_data:\n",
    "                break\n",
    "        return frame\n",
    "\n"
   ]
  },
  {
   "cell_type": "code",
   "execution_count": 20,
   "id": "a6de8d1f-cab2-4464-a336-76910bbfb602",
   "metadata": {},
   "outputs": [],
   "source": [
    "def extract(frame):\n",
    "    data_binary = \"\"\n",
    "    final_decoded_msg = \"\"\n",
    "    for i in frame:\n",
    "        for pixel in i:\n",
    "            r, g, b = msgtobinary(pixel) \n",
    "            data_binary += r[-1]  \n",
    "            data_binary += g[-1]  \n",
    "            data_binary += b[-1]  \n",
    "            total_bytes = [ data_binary[i: i+8] for i in range(0, len(data_binary), 8) ]\n",
    "            decoded_data = \"\"\n",
    "            for byte in total_bytes:\n",
    "                decoded_data += chr(int(byte, 2))\n",
    "                if decoded_data[-5:] == \"*^*^*\": \n",
    "                    for i in range(0,len(decoded_data)-5):\n",
    "                        final_decoded_msg += decoded_data[i]\n",
    "                    final_decoded_msg = decryption(final_decoded_msg)\n",
    "                    print(\"\\n\\nThe Encoded data which was hidden in the Video was :--\\n\",final_decoded_msg)\n",
    "                    return "
   ]
  },
  {
   "cell_type": "code",
   "execution_count": 21,
   "id": "053d7076-714f-4a6a-844b-d817627dec84",
   "metadata": {},
   "outputs": [],
   "source": [
    "\n",
    "def encode_vid_data():\n",
    "    cap=cv2.VideoCapture(\"Sample_cover_files/cover_video.mp4\")\n",
    "    vidcap = cv2.VideoCapture(\"Sample_cover_files/cover_video.mp4\")    \n",
    "    fourcc = cv2.VideoWriter_fourcc(*'XVID')\n",
    "    frame_width = int(vidcap.get(3))\n",
    "    frame_height = int(vidcap.get(4))\n",
    "\n",
    "    size = (frame_width, frame_height)\n",
    "    out = cv2.VideoWriter('stego_video.mp4',fourcc, 25.0, size)\n",
    "    max_frame=0;\n",
    "    while(cap.isOpened()):\n",
    "        ret, frame = cap.read()\n",
    "        if ret == False:\n",
    "            break\n",
    "        max_frame+=1\n",
    "    cap.release()\n",
    "    print(\"Total number of Frame in selected Video :\",max_frame)\n",
    "    print(\"Enter the frame number where you want to embed data : \")\n",
    "    n=int(input())\n",
    "    frame_number = 0\n",
    "    while(vidcap.isOpened()):\n",
    "        frame_number += 1\n",
    "        ret, frame = vidcap.read()\n",
    "        if ret == False:\n",
    "            break\n",
    "        if frame_number == n:    \n",
    "            change_frame_with = embed(frame)\n",
    "            frame_ = change_frame_with\n",
    "            frame = change_frame_with\n",
    "        out.write(frame)\n",
    "    \n",
    "    print(\"\\nEncoded the data successfully in the video file.\")\n",
    "    return frame_\n",
    "\n"
   ]
  },
  {
   "cell_type": "code",
   "execution_count": 22,
   "id": "1f59c384-8edb-4787-8e44-cafb968b22ad",
   "metadata": {},
   "outputs": [],
   "source": [
    "def decode_vid_data(frame_):\n",
    "    cap = cv2.VideoCapture('stego_video.mp4')\n",
    "    max_frame=0;\n",
    "    while(cap.isOpened()):\n",
    "        ret, frame = cap.read()\n",
    "        if ret == False:\n",
    "            break\n",
    "        max_frame+=1\n",
    "    print(\"Total number of Frame in selected Video :\",max_frame)\n",
    "    print(\"Enter the secret frame number from where you want to extract data\")\n",
    "    n=int(input())\n",
    "    vidcap = cv2.VideoCapture('stego_video.mp4')\n",
    "    frame_number = 0\n",
    "    while(vidcap.isOpened()):\n",
    "        frame_number += 1\n",
    "        ret, frame = vidcap.read()\n",
    "        if ret == False:\n",
    "            break\n",
    "        if frame_number == n:\n",
    "            extract(frame_)\n",
    "            return"
   ]
  },
  {
   "cell_type": "code",
   "execution_count": 23,
   "id": "a037296f-791b-4b6b-ac20-99a3dbeab525",
   "metadata": {},
   "outputs": [],
   "source": [
    "def vid_steg():\n",
    "    while True:\n",
    "        print(\"\\n\\t\\tVIDEO STEGANOGRAPHY OPERATIONS\") \n",
    "        print(\"1. Encode the Text message\")  \n",
    "        print(\"2. Decode the Text message\")  \n",
    "        print(\"3. Exit\")  \n",
    "        choice1 = int(input(\"Enter the Choice:\"))   \n",
    "        if choice1 == 1:\n",
    "            a=encode_vid_data()\n",
    "        elif choice1 == 2:\n",
    "            decode_vid_data(a)\n",
    "        elif choice1 == 3:\n",
    "            break\n",
    "        else:\n",
    "            print(\"Incorrect Choice\")\n",
    "        print(\"\\n\")\n"
   ]
  },
  {
   "cell_type": "code",
   "execution_count": 24,
   "id": "d3668a7a-ef80-49b8-b9eb-5bbe9b40bde0",
   "metadata": {},
   "outputs": [],
   "source": [
    "def main():\n",
    "    print(\"\\t\\t      STEGANOGRAPHY\")   \n",
    "    while True:  \n",
    "        print(\"\\n\\t\\t\\tMAIN MENU\\n\")  \n",
    "        print(\"1. IMAGE STEGANOGRAPHY {Hiding Text in Image cover file}\")  \n",
    "        print(\"2. AUDIO STEGANOGRAPHY {Hiding Text in Audio cover file}\")\n",
    "        print(\"3. VIDEO STEGANOGRAPHY {Hiding Text in Video cover file}\")\n",
    "        print(\"4. Exit\\n\")  \n",
    "        choice1 = int(input(\"Enter the Choice: \"))   \n",
    "        if choice1 == 1: \n",
    "            img_steg()\n",
    "        elif choice1 == 2:\n",
    "            aud_steg()\n",
    "        elif choice1 == 3:\n",
    "            vid_steg()\n",
    "        elif choice1 == 4:\n",
    "            break\n",
    "        else:\n",
    "            print(\"Incorrect Choice\")\n",
    "        print(\"\\n\\n\")\n"
   ]
  },
  {
   "cell_type": "code",
   "execution_count": 27,
   "id": "35ca53e0-2921-4650-91c2-01db2a557d20",
   "metadata": {},
   "outputs": [
    {
     "name": "stdout",
     "output_type": "stream",
     "text": [
      "\t\t      STEGANOGRAPHY\n",
      "\n",
      "\t\t\tMAIN MENU\n",
      "\n",
      "1. IMAGE STEGANOGRAPHY {Hiding Text in Image cover file}\n",
      "2. AUDIO STEGANOGRAPHY {Hiding Text in Audio cover file}\n",
      "3. VIDEO STEGANOGRAPHY {Hiding Text in Video cover file}\n",
      "4. Exit\n",
      "\n"
     ]
    },
    {
     "name": "stdin",
     "output_type": "stream",
     "text": [
      "Enter the Choice:  3\n"
     ]
    },
    {
     "name": "stdout",
     "output_type": "stream",
     "text": [
      "\n",
      "\t\tVIDEO STEGANOGRAPHY OPERATIONS\n",
      "1. Encode the Text message\n",
      "2. Decode the Text message\n",
      "3. Exit\n"
     ]
    },
    {
     "name": "stdin",
     "output_type": "stream",
     "text": [
      "Enter the Choice: 1\n"
     ]
    },
    {
     "name": "stdout",
     "output_type": "stream",
     "text": [
      "Total number of Frame in selected Video : 142\n",
      "Enter the frame number where you want to embed data : \n"
     ]
    },
    {
     "name": "stdin",
     "output_type": "stream",
     "text": [
      " 20\n",
      "\n",
      "Enter the data to be Encoded in Video : its been a great journey\n"
     ]
    },
    {
     "name": "stdout",
     "output_type": "stream",
     "text": [
      "Enter the key : \n"
     ]
    },
    {
     "name": "stdin",
     "output_type": "stream",
     "text": [
      " hello\n"
     ]
    },
    {
     "name": "stdout",
     "output_type": "stream",
     "text": [
      "The encrypted data is :  f%ÌÚÉÍ¼j}ïÆz½ô±z9Þ]:õ°\u0014\n",
      "\n",
      "\n",
      "Encoded the data successfully in the video file.\n",
      "\n",
      "\n",
      "\n",
      "\t\tVIDEO STEGANOGRAPHY OPERATIONS\n",
      "1. Encode the Text message\n",
      "2. Decode the Text message\n",
      "3. Exit\n"
     ]
    },
    {
     "name": "stdin",
     "output_type": "stream",
     "text": [
      "Enter the Choice: 2\n"
     ]
    },
    {
     "name": "stdout",
     "output_type": "stream",
     "text": [
      "Total number of Frame in selected Video : 142\n",
      "Enter the secret frame number from where you want to extract data\n"
     ]
    },
    {
     "name": "stdin",
     "output_type": "stream",
     "text": [
      " 20\n"
     ]
    },
    {
     "name": "stdout",
     "output_type": "stream",
     "text": [
      "Enter the key : \n"
     ]
    },
    {
     "name": "stdin",
     "output_type": "stream",
     "text": [
      " hello\n"
     ]
    },
    {
     "name": "stdout",
     "output_type": "stream",
     "text": [
      "\n",
      "\n",
      "The Encoded data which was hidden in the Video was :--\n",
      " its been a great journey\n",
      "\n",
      "\n",
      "\n",
      "\t\tVIDEO STEGANOGRAPHY OPERATIONS\n",
      "1. Encode the Text message\n",
      "2. Decode the Text message\n",
      "3. Exit\n"
     ]
    },
    {
     "name": "stdin",
     "output_type": "stream",
     "text": [
      "Enter the Choice: 3\n"
     ]
    },
    {
     "name": "stdout",
     "output_type": "stream",
     "text": [
      "\n",
      "\n",
      "\n",
      "\n",
      "\t\t\tMAIN MENU\n",
      "\n",
      "1. IMAGE STEGANOGRAPHY {Hiding Text in Image cover file}\n",
      "2. AUDIO STEGANOGRAPHY {Hiding Text in Audio cover file}\n",
      "3. VIDEO STEGANOGRAPHY {Hiding Text in Video cover file}\n",
      "4. Exit\n",
      "\n"
     ]
    },
    {
     "name": "stdin",
     "output_type": "stream",
     "text": [
      "Enter the Choice:  4\n"
     ]
    }
   ],
   "source": [
    "\n",
    "if __name__ == \"__main__\":\n",
    "    main()\n"
   ]
  },
  {
   "cell_type": "code",
   "execution_count": null,
   "id": "b2d0aa29-1778-49d2-8c10-5ae4eb80be69",
   "metadata": {},
   "outputs": [],
   "source": [
    "\n"
   ]
  },
  {
   "cell_type": "markdown",
   "id": "7fa3f435-189b-4604-89f7-c00f5f614d14",
   "metadata": {},
   "source": [
    "### "
   ]
  }
 ],
 "metadata": {
  "kernelspec": {
   "display_name": "Python 3 (ipykernel)",
   "language": "python",
   "name": "python3"
  },
  "language_info": {
   "codemirror_mode": {
    "name": "ipython",
    "version": 3
   },
   "file_extension": ".py",
   "mimetype": "text/x-python",
   "name": "python",
   "nbconvert_exporter": "python",
   "pygments_lexer": "ipython3",
   "version": "3.12.4"
  }
 },
 "nbformat": 4,
 "nbformat_minor": 5
}
